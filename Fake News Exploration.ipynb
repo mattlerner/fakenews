{
 "cells": [
  {
   "cell_type": "code",
   "execution_count": 29,
   "metadata": {},
   "outputs": [],
   "source": [
    "import pandas as pd\n",
    "import sklearn\n",
    "import numpy as np\n",
    "import json"
   ]
  },
  {
   "cell_type": "code",
   "execution_count": 98,
   "metadata": {},
   "outputs": [],
   "source": [
    "########## DATA ##########\n",
    "\n",
    "# FAKE POLITIFACT\n",
    "fake_politifact = []\n",
    "for i in np.arange(1,120):\n",
    "    with open(\"Data/politifact/FakeNewsContent/PolitiFact_Fake_{}-Webpage.json\".format(str(i)), 'r') as current:\n",
    "        data = json.loads(current.read())\n",
    "        \n",
    "        try:\n",
    "            description = str(data[\"meta_data\"][\"og\"][\"description\"])\n",
    "        except:\n",
    "            description = \"\"\n",
    "            \n",
    "        try:\n",
    "            publish_date = data[\"publish_date\"]['$date']\n",
    "        except:\n",
    "            publish_date = np.nan\n",
    "            \n",
    "        fake_politifact.append({\"text\":data[\"text\"],\"title\":data[\"title\"],\"publish_date\":publish_date,\"description\":description})\n",
    "        \n",
    "fake_politifact_frame = pd.DataFrame(fake_politifact)\n",
    "    \n",
    "\n",
    "# FAKE BUZZFEED\n",
    "fake_buzzfeed = []\n",
    "for i in np.arange(1,91):\n",
    "    with open(\"Data/buzzfeed/FakeNewsContent/BuzzFeed_Fake_{}-Webpage.json\".format(str(i)), 'r') as current:\n",
    "        data = json.loads(current.read())\n",
    "        \n",
    "        try:\n",
    "            description = str(data[\"meta_data\"][\"og\"][\"description\"])\n",
    "        except:\n",
    "            description = \"\"\n",
    "            \n",
    "        try:\n",
    "            publish_date = data[\"publish_date\"]\n",
    "        except:\n",
    "            publish_date = np.nan\n",
    "            \n",
    "        fake_buzzfeed.append({\"text\":data[\"text\"],\"title\":data[\"title\"],\"publish_date\":publish_date,\"description\":description})\n",
    "        \n",
    "fake_buzzfeed_frame = pd.DataFrame(fake_buzzfeed)\n",
    "    "
   ]
  },
  {
   "cell_type": "code",
   "execution_count": 100,
   "metadata": {},
   "outputs": [
    {
     "ename": "NameError",
     "evalue": "name 'info' is not defined",
     "output_type": "error",
     "traceback": [
      "\u001b[0;31m---------------------------------------------------------------------------\u001b[0m",
      "\u001b[0;31mNameError\u001b[0m                                 Traceback (most recent call last)",
      "\u001b[0;32m<ipython-input-100-600cfd77573a>\u001b[0m in \u001b[0;36m<module>\u001b[0;34m\u001b[0m\n\u001b[0;32m----> 1\u001b[0;31m \u001b[0minfo\u001b[0m\u001b[0;34m(\u001b[0m\u001b[0mfake_politifact_frame\u001b[0m\u001b[0;34m)\u001b[0m\u001b[0;34m\u001b[0m\u001b[0;34m\u001b[0m\u001b[0m\n\u001b[0m",
      "\u001b[0;31mNameError\u001b[0m: name 'info' is not defined"
     ]
    }
   ],
   "source": [
    "info(fake_politifact_frame)"
   ]
  },
  {
   "cell_type": "code",
   "execution_count": 71,
   "metadata": {},
   "outputs": [
    {
     "name": "stdout",
     "output_type": "stream",
     "text": [
      "Virginia Republican Wants Schools To Check Children's Genitals Before Using Bathroom\n"
     ]
    }
   ],
   "source": [
    "with open(\"Data/politifact/FakeNewsContent/PolitiFact_Fake_{}-Webpage.json\".format(str(i)), 'r') as current:\n",
    "    a = json.loads(current.read())\n",
    "    print(a['title'])\n",
    "    \n",
    "# text, title, publish_date, "
   ]
  },
  {
   "cell_type": "code",
   "execution_count": 88,
   "metadata": {},
   "outputs": [
    {
     "data": {
      "text/plain": [
       "array([  1,   2,   3,   4,   5,   6,   7,   8,   9,  10,  11,  12,  13,\n",
       "        14,  15,  16,  17,  18,  19,  20,  21,  22,  23,  24,  25,  26,\n",
       "        27,  28,  29,  30,  31,  32,  33,  34,  35,  36,  37,  38,  39,\n",
       "        40,  41,  42,  43,  44,  45,  46,  47,  48,  49,  50,  51,  52,\n",
       "        53,  54,  55,  56,  57,  58,  59,  60,  61,  62,  63,  64,  65,\n",
       "        66,  67,  68,  69,  70,  71,  72,  73,  74,  75,  76,  77,  78,\n",
       "        79,  80,  81,  82,  83,  84,  85,  86,  87,  88,  89,  90,  91,\n",
       "        92,  93,  94,  95,  96,  97,  98,  99, 100, 101, 102, 103, 104,\n",
       "       105, 106, 107, 108, 109, 110, 111, 112, 113, 114, 115, 116, 117,\n",
       "       118, 119])"
      ]
     },
     "execution_count": 88,
     "metadata": {},
     "output_type": "execute_result"
    }
   ],
   "source": [
    "np.arange(1,120)"
   ]
  },
  {
   "cell_type": "code",
   "execution_count": null,
   "metadata": {},
   "outputs": [],
   "source": []
  }
 ],
 "metadata": {
  "kernelspec": {
   "display_name": "Python 3",
   "language": "python",
   "name": "python3"
  },
  "language_info": {
   "codemirror_mode": {
    "name": "ipython",
    "version": 3
   },
   "file_extension": ".py",
   "mimetype": "text/x-python",
   "name": "python",
   "nbconvert_exporter": "python",
   "pygments_lexer": "ipython3",
   "version": "3.7.2"
  }
 },
 "nbformat": 4,
 "nbformat_minor": 2
}
